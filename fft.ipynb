{
 "cells": [
  {
   "cell_type": "code",
   "execution_count": 1,
   "metadata": {},
   "outputs": [],
   "source": [
    "import pandas as pd\n",
    "import numpy as np\n",
    "import glob\n",
    "import keras\n",
    "import os"
   ]
  },
  {
   "cell_type": "code",
   "execution_count": 2,
   "metadata": {},
   "outputs": [],
   "source": [
    "tp = pd.read_csv('tp_list.txt', header=None)\n",
    "au = pd.read_csv('au_list.txt', header=None)\n",
    "file_path_au = \"F:\\\\github\\\\CASIA2.0_revised\\\\CASIA2.0_revised\\\\Au\"\n",
    "file_path_tp = \"F:\\\\github\\\\CASIA2.0_revised\\\\CASIA2.0_revised\\\\Tp\"\n",
    "au[0] = file_path_au + \"\\\\\" + au[0]\n",
    "tp[0] = file_path_tp + \"\\\\\" + tp[0]\n",
    "au.columns = ['file_path']\n",
    "tp.columns = ['file_path']\n",
    "au['type'] = 'Authentic'\n",
    "tp['type'] = 'Forged'\n",
    "im_df = pd.concat([au, tp], ignore_index=True)"
   ]
  },
  {
   "cell_type": "code",
   "execution_count": null,
   "metadata": {},
   "outputs": [],
   "source": [
    "def save_image():\n",
    "    labels = []\n",
    "    imgs = []\n",
    "    for i in range(0, 1000): #len(im_df) muszę pomyśleć, bo dla całego polecenia mam za mało RAMU xd\n",
    "        labels.append(im_df['type'][i]) \n",
    "        image = keras.utils.load_img(im_df['file_path'][i]) #wczytanie obrazka na podstawie nazwy\n",
    "        input_arr = keras.utils.img_to_array(image) #zapisanie obrazka w formacie rgb w liście\n",
    "        imgs.append(input_arr) \n",
    "    return labels, imgs"
   ]
  },
  {
   "cell_type": "code",
   "execution_count": 6,
   "metadata": {},
   "outputs": [],
   "source": [
    "labels, imgs = save_image()"
   ]
  }
 ],
 "metadata": {
  "kernelspec": {
   "display_name": "Python 3",
   "language": "python",
   "name": "python3"
  },
  "language_info": {
   "codemirror_mode": {
    "name": "ipython",
    "version": 3
   },
   "file_extension": ".py",
   "mimetype": "text/x-python",
   "name": "python",
   "nbconvert_exporter": "python",
   "pygments_lexer": "ipython3",
   "version": "3.12.7"
  }
 },
 "nbformat": 4,
 "nbformat_minor": 2
}
